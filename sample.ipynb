{
 "cells": [
  {
   "metadata": {},
   "cell_type": "markdown",
   "source": "## Get and pre-process all data",
   "id": "8a77807f92f26ee"
  },
  {
   "metadata": {
    "ExecuteTime": {
     "end_time": "2025-03-08T21:15:01.970980Z",
     "start_time": "2025-03-08T21:15:01.768418Z"
    }
   },
   "cell_type": "code",
   "source": [
    "import requests\n",
    "# get abr entry\n",
    "import requests as r\n",
    "\n",
    "t_id = 4541\n",
    "url = f\"https://alwaysberunning.net/api/entries?id={t_id}\"\n",
    "tourney = requests.get(url).json()\n",
    "\n",
    "abr_names = [\"\"] * len(tourney)\n",
    "for i, entry in enumerate(tourney):\n",
    "    if entry[\"user_import_name\"] is not None and entry[\"rank_top\"] is not None:\n",
    "        abr_names[i] = (entry[\"user_import_name\"], entry[\"rank_top\"])\n",
    "    elif entry[\"user_import_name\"] is not None and entry[\"rank_top\"] is None:\n",
    "        abr_names[i] = (entry[\"user_import_name\"], entry[\"rank_swiss\"])\n",
    "    elif entry[\"rank_top\"] is not None:\n",
    "        abr_names[i] = (entry[\"user_name\"], entry[\"rank_top\"])\n",
    "    else:\n",
    "        abr_names[i] = (entry[\"user_name\"], entry[\"rank_swiss\"])\n",
    "\n",
    "\n",
    "abr_names.sort(key=lambda x: x[1])\n",
    "abr_names = [x[0] for x in abr_names]\n",
    "\n",
    " # special chars are baaaaad\n",
    "if t_id == 4541: abr_names[43] = \"l0velace\"\n",
    "\n",
    "\n",
    "abr_names_set = set(abr_names)\n",
    "# abr_names_set"
   ],
   "id": "fbc121e30a2defb3",
   "outputs": [],
   "execution_count": 111
  },
  {
   "metadata": {
    "ExecuteTime": {
     "end_time": "2025-03-08T19:26:51.579096Z",
     "start_time": "2025-03-08T19:26:51.575854Z"
    }
   },
   "cell_type": "code",
   "source": "import pandas as pd",
   "id": "60b4cd5268b04771",
   "outputs": [],
   "execution_count": 21
  },
  {
   "metadata": {
    "ExecuteTime": {
     "end_time": "2025-03-08T21:16:35.788440Z",
     "start_time": "2025-03-08T21:16:35.771203Z"
    }
   },
   "cell_type": "code",
   "source": [
    "col_names = {\n",
    "    \"Basic Info\": \"name\",\n",
    "    \"Email\": \"email\",\n",
    "    \"Phone Number\": \"phone\",\n",
    "    \"Shipping address (Please make sure this is your entire address including country 🙏❤️ )\": \"shipping\",\n",
    "    \"IMPORTANT* Name/Handle you will use on Cobra so I can connect your placement to your prizes.\": \"handle\",\n",
    "    \"Participation Prizes choice #1 (playset)\": \"part_one\",\n",
    "    \"Participation Prizes choice #2 (playset)\": \"part_two\",\n",
    "    \"Additional prizing 🥳 (check all that apply)\": \"add_prizing\",\n",
    "    \"Do you already have a CBI invite (important)? Do you want the playmat?\": \"cbi\",\n",
    "    \"VIP\": \"playmat\",\n",
    "    \"Delivery options. Is your shipping address correct? (includes a country and correct formatting)\": \"shipping_options\"\n",
    "}\n",
    "\n",
    "\n",
    "df = pd.read_csv('data/data.tsv', sep='\\t')\n",
    "\n",
    "df.rename(columns=col_names, inplace=True)\n",
    "df = df[['name', 'email', 'phone', 'shipping', 'handle', 'part_one', 'part_two', 'add_prizing', 'cbi', 'shipping_options', 'playmat']]\n",
    "\n",
    "df['placement'] = None\n",
    "\n",
    "print(df.head())"
   ],
   "id": "a3a98beb878f4fe",
   "outputs": [
    {
     "name": "stdout",
     "output_type": "stream",
     "text": [
      "   name  email  phone  shipping             handle             part_one  \\\n",
      "0   NaN    NaN    NaN       NaN  marasmia (xe/xem)  Finality (Cat Shen)   \n",
      "1   NaN    NaN    NaN       NaN           MattOhNo  Finality (Cat Shen)   \n",
      "2   NaN    NaN    NaN       NaN          Porkobolo  Finality (Cat Shen)   \n",
      "3   NaN    NaN    NaN       NaN        awildturtok    Revolver (PreNic)   \n",
      "4   NaN    NaN    NaN       NaN      CodeMarvelous  Finality (Cat Shen)   \n",
      "\n",
      "                                            part_two  \\\n",
      "0  Sure Gamble (Cassius Marcellus Coolidge &amp; ...   \n",
      "1                     Full art Slap Vandal (NSG GNK)   \n",
      "2  Sure Gamble (Cassius Marcellus Coolidge &amp; ...   \n",
      "3                                Finality (Cat Shen)   \n",
      "4                                  Revolver (PreNic)   \n",
      "\n",
      "                                         add_prizing  \\\n",
      "0                                            \"🎩 🧢 👒\"   \n",
      "1                                                NaN   \n",
      "2                                                NaN   \n",
      "3  \"First Online Showdown! -  Alt-art Spin Doctor...   \n",
      "4  \"First Online Showdown! -  Alt-art Spin Doctor...   \n",
      "\n",
      "                                                 cbi  \\\n",
      "0                      \"I already won a CBI invite.\"   \n",
      "1  \" I already have enough playmats. If I win the...   \n",
      "2  \"I already won a CBI invite.\", \" I already hav...   \n",
      "3                        \"These don't apply to me. \"   \n",
      "4                        \"These don't apply to me. \"   \n",
      "\n",
      "                                    shipping_options  playmat placement  \n",
      "0  Please ship my prizes. My shipping address is ...    False      None  \n",
      "1  Please ship my prizes. My shipping address is ...    False      None  \n",
      "2  Please ship my prizes. My shipping address is ...    False      None  \n",
      "3  Please ship my prizes. My shipping address is ...    False      None  \n",
      "4  Please ship my prizes. My shipping address is ...    False      None  \n"
     ]
    }
   ],
   "execution_count": 113
  },
  {
   "metadata": {
    "ExecuteTime": {
     "end_time": "2025-03-08T21:37:58.526283Z",
     "start_time": "2025-03-08T21:37:58.515296Z"
    }
   },
   "cell_type": "code",
   "source": [
    "# process\n",
    "# enter player aliases here\n",
    "\n",
    "correct_handles = {\n",
    "    \"Lastwarrior/AbyssStaresBack\": \"AbyssStaresBack\",\n",
    "    \"marasmia (xe/xem)\": \"marasmia\",\n",
    "    \"Max/ChonkySeal\": \"ChonkySeal\",\n",
    "    \"PiCat\": \"PiCat314\",\n",
    "\n",
    "}\n",
    "\n",
    "rem_players = abr_names_set.copy()\n",
    "\n",
    "for player in df.itertuples():\n",
    "    if pd.isnull(player.handle): break\n",
    "    if player.handle in correct_handles.keys():\n",
    "        df.at[player.Index, \"handle\"] = correct_handles[player.handle]\n",
    "    handle = player.handle\n",
    "\n",
    "    if handle in rem_players:\n",
    "        df.at[player.Index, \"placement\"] = abr_names.index(handle)\n",
    "        rem_players.remove(handle)\n",
    "        continue\n",
    "\n",
    "    print(handle)\n",
    "print(rem_players)"
   ],
   "id": "e7808c52ae082b96",
   "outputs": [
    {
     "name": "stdout",
     "output_type": "stream",
     "text": [
      "Lastwarrior/AbyssStaresBack\n",
      "Max/ChonkySeal\n",
      "marasmia (xe/xem)\n",
      "PiCat\n",
      "cody1024d\n",
      "CyberShark\n",
      "Baxder\n",
      "ThatRedHyena\n",
      "grundmc88\n",
      "bdorf\n",
      "amxrt\n",
      "TheSovietLoveHammer\n",
      "aashbo\n",
      "Nut_Milk\n",
      "kevinth\n",
      "theRemix\n",
      "{'AbyssStaresBack', 'ArminFirecracker', 'IAmFrog', 'xou', 'Psygamer', 'benvelopment', 'Baa Ram Wu', 'ChonkySeal', 'Toxiccord', 'Cise Starrgate', 'CobraBubbles', 'Larrea', 'marasmia', 'Brita', 'rubenpieters', 'ExperimentalDataCore', 'pink opaque', 'Baserton', 'TorpedoTyrus', 'TannenLimoLiebe', 'PiCat314', 'WholockianDalek', 'OF15-15'}\n"
     ]
    }
   ],
   "execution_count": 130
  },
  {
   "metadata": {
    "ExecuteTime": {
     "end_time": "2025-03-08T21:38:02.381460Z",
     "start_time": "2025-03-08T21:38:02.374758Z"
    }
   },
   "cell_type": "code",
   "source": [
    "df = df.sort_values(by=\"placement\")\n",
    "print(df[[\"handle\", \"placement\"]])"
   ],
   "id": "51b95adf786646da",
   "outputs": [
    {
     "name": "stdout",
     "output_type": "stream",
     "text": [
      "                 handle placement\n",
      "53                 ant1         0\n",
      "29             not_yeti         2\n",
      "67      AbyssStaresBack         3\n",
      "25                Ollie         5\n",
      "26          AnOddRadish         6\n",
      "..                  ...       ...\n",
      "62  TheSovietLoveHammer      None\n",
      "71               aashbo      None\n",
      "85             Nut_Milk      None\n",
      "89              kevinth      None\n",
      "90             theRemix      None\n",
      "\n",
      "[92 rows x 2 columns]\n"
     ]
    }
   ],
   "execution_count": 131
  },
  {
   "metadata": {
    "ExecuteTime": {
     "end_time": "2025-03-08T21:41:24.506258Z",
     "start_time": "2025-03-08T21:41:24.495601Z"
    }
   },
   "cell_type": "code",
   "source": [
    "playmat = 8\n",
    "cbi = 5\n",
    "\n",
    "\n",
    "playmats = list(df[~df['cbi'].str.contains('I already won a playmat')].head(playmat)[\"handle\"])\n",
    "no_invites = list(df[df['cbi'].str.contains('I already won a CBI invite.')][\"handle\"])\n",
    "tickets = list(df[\"handle\"])\n",
    "\n",
    "\n",
    "print(f\"playmat to \\n {playmats}\\n\\n\")\n",
    "print(f\"ask for invite: {[i for i in abr_names[:abr_names.index(invites[-1])] if i not in tickets]}\\n\")\n",
    "print(f\"potential invites: {[i for i in abr_names[:abr_names.index(invites[-1])] if i not in no_invites]}\\n\")\n"
   ],
   "id": "17c13861a9b8fe8f",
   "outputs": [
    {
     "name": "stdout",
     "output_type": "stream",
     "text": [
      "playmat to \n",
      " ['ant1', 'not_yeti', 'AbyssStaresBack', 'Ollie', 'AnOddRadish', 'davz131', 'Buachu', 'tzeentchling']\n",
      "\n",
      "\n",
      "ask for invite: ['OF15-15', 'CobraBubbles', 'TorpedoTyrus']\n",
      "\n",
      "potential invites: ['ant1', 'OF15-15', 'CobraBubbles', 'Buachu', 'TorpedoTyrus', 'Ish', 'cat']\n",
      "\n"
     ]
    }
   ],
   "execution_count": 133
  }
 ],
 "metadata": {
  "kernelspec": {
   "display_name": "Python 3",
   "language": "python",
   "name": "python3"
  },
  "language_info": {
   "codemirror_mode": {
    "name": "ipython",
    "version": 2
   },
   "file_extension": ".py",
   "mimetype": "text/x-python",
   "name": "python",
   "nbconvert_exporter": "python",
   "pygments_lexer": "ipython2",
   "version": "2.7.6"
  }
 },
 "nbformat": 4,
 "nbformat_minor": 5
}
